{
  "nbformat": 4,
  "nbformat_minor": 0,
  "metadata": {
    "colab": {
      "name": "Face_Mask_Detection_APP.ipynb",
      "provenance": [],
      "collapsed_sections": []
    },
    "kernelspec": {
      "name": "python3",
      "display_name": "Python 3"
    },
    "language_info": {
      "name": "python"
    }
  },
  "cells": [
    {
      "cell_type": "code",
      "execution_count": null,
      "metadata": {
        "colab": {
          "base_uri": "https://localhost:8080/"
        },
        "id": "qdur_Q9LhUJz",
        "outputId": "cc6b3c33-5375-4db2-d304-98848c4c3968"
      },
      "outputs": [
        {
          "output_type": "stream",
          "name": "stdout",
          "text": [
            "Requirement already satisfied: tensorflow in /usr/local/lib/python3.7/dist-packages (2.8.0)\n",
            "Requirement already satisfied: flatbuffers>=1.12 in /usr/local/lib/python3.7/dist-packages (from tensorflow) (2.0)\n",
            "Requirement already satisfied: h5py>=2.9.0 in /usr/local/lib/python3.7/dist-packages (from tensorflow) (3.1.0)\n",
            "Requirement already satisfied: numpy>=1.20 in /usr/local/lib/python3.7/dist-packages (from tensorflow) (1.21.6)\n",
            "Requirement already satisfied: wrapt>=1.11.0 in /usr/local/lib/python3.7/dist-packages (from tensorflow) (1.14.0)\n",
            "Requirement already satisfied: tensorboard<2.9,>=2.8 in /usr/local/lib/python3.7/dist-packages (from tensorflow) (2.8.0)\n",
            "Requirement already satisfied: opt-einsum>=2.3.2 in /usr/local/lib/python3.7/dist-packages (from tensorflow) (3.3.0)\n",
            "Requirement already satisfied: keras-preprocessing>=1.1.1 in /usr/local/lib/python3.7/dist-packages (from tensorflow) (1.1.2)\n",
            "Requirement already satisfied: gast>=0.2.1 in /usr/local/lib/python3.7/dist-packages (from tensorflow) (0.5.3)\n",
            "Requirement already satisfied: absl-py>=0.4.0 in /usr/local/lib/python3.7/dist-packages (from tensorflow) (1.0.0)\n",
            "Requirement already satisfied: tensorflow-io-gcs-filesystem>=0.23.1 in /usr/local/lib/python3.7/dist-packages (from tensorflow) (0.24.0)\n",
            "Requirement already satisfied: astunparse>=1.6.0 in /usr/local/lib/python3.7/dist-packages (from tensorflow) (1.6.3)\n",
            "Requirement already satisfied: libclang>=9.0.1 in /usr/local/lib/python3.7/dist-packages (from tensorflow) (13.0.0)\n",
            "Requirement already satisfied: typing-extensions>=3.6.6 in /usr/local/lib/python3.7/dist-packages (from tensorflow) (4.1.1)\n",
            "Requirement already satisfied: protobuf>=3.9.2 in /usr/local/lib/python3.7/dist-packages (from tensorflow) (3.17.3)\n",
            "Requirement already satisfied: six>=1.12.0 in /usr/local/lib/python3.7/dist-packages (from tensorflow) (1.15.0)\n",
            "Requirement already satisfied: grpcio<2.0,>=1.24.3 in /usr/local/lib/python3.7/dist-packages (from tensorflow) (1.44.0)\n",
            "Requirement already satisfied: keras<2.9,>=2.8.0rc0 in /usr/local/lib/python3.7/dist-packages (from tensorflow) (2.8.0)\n",
            "Requirement already satisfied: setuptools in /usr/local/lib/python3.7/dist-packages (from tensorflow) (57.4.0)\n",
            "Requirement already satisfied: termcolor>=1.1.0 in /usr/local/lib/python3.7/dist-packages (from tensorflow) (1.1.0)\n",
            "Requirement already satisfied: google-pasta>=0.1.1 in /usr/local/lib/python3.7/dist-packages (from tensorflow) (0.2.0)\n",
            "Collecting tf-estimator-nightly==2.8.0.dev2021122109\n",
            "  Downloading tf_estimator_nightly-2.8.0.dev2021122109-py2.py3-none-any.whl (462 kB)\n",
            "\u001b[K     |████████████████████████████████| 462 kB 5.4 MB/s \n",
            "\u001b[?25hRequirement already satisfied: wheel<1.0,>=0.23.0 in /usr/local/lib/python3.7/dist-packages (from astunparse>=1.6.0->tensorflow) (0.37.1)\n",
            "Requirement already satisfied: cached-property in /usr/local/lib/python3.7/dist-packages (from h5py>=2.9.0->tensorflow) (1.5.2)\n",
            "Requirement already satisfied: markdown>=2.6.8 in /usr/local/lib/python3.7/dist-packages (from tensorboard<2.9,>=2.8->tensorflow) (3.3.6)\n",
            "Requirement already satisfied: requests<3,>=2.21.0 in /usr/local/lib/python3.7/dist-packages (from tensorboard<2.9,>=2.8->tensorflow) (2.23.0)\n",
            "Requirement already satisfied: tensorboard-plugin-wit>=1.6.0 in /usr/local/lib/python3.7/dist-packages (from tensorboard<2.9,>=2.8->tensorflow) (1.8.1)\n",
            "Requirement already satisfied: google-auth-oauthlib<0.5,>=0.4.1 in /usr/local/lib/python3.7/dist-packages (from tensorboard<2.9,>=2.8->tensorflow) (0.4.6)\n",
            "Requirement already satisfied: tensorboard-data-server<0.7.0,>=0.6.0 in /usr/local/lib/python3.7/dist-packages (from tensorboard<2.9,>=2.8->tensorflow) (0.6.1)\n",
            "Requirement already satisfied: werkzeug>=0.11.15 in /usr/local/lib/python3.7/dist-packages (from tensorboard<2.9,>=2.8->tensorflow) (1.0.1)\n",
            "Requirement already satisfied: google-auth<3,>=1.6.3 in /usr/local/lib/python3.7/dist-packages (from tensorboard<2.9,>=2.8->tensorflow) (1.35.0)\n",
            "Requirement already satisfied: pyasn1-modules>=0.2.1 in /usr/local/lib/python3.7/dist-packages (from google-auth<3,>=1.6.3->tensorboard<2.9,>=2.8->tensorflow) (0.2.8)\n",
            "Requirement already satisfied: cachetools<5.0,>=2.0.0 in /usr/local/lib/python3.7/dist-packages (from google-auth<3,>=1.6.3->tensorboard<2.9,>=2.8->tensorflow) (4.2.4)\n",
            "Requirement already satisfied: rsa<5,>=3.1.4 in /usr/local/lib/python3.7/dist-packages (from google-auth<3,>=1.6.3->tensorboard<2.9,>=2.8->tensorflow) (4.8)\n",
            "Requirement already satisfied: requests-oauthlib>=0.7.0 in /usr/local/lib/python3.7/dist-packages (from google-auth-oauthlib<0.5,>=0.4.1->tensorboard<2.9,>=2.8->tensorflow) (1.3.1)\n",
            "Requirement already satisfied: importlib-metadata>=4.4 in /usr/local/lib/python3.7/dist-packages (from markdown>=2.6.8->tensorboard<2.9,>=2.8->tensorflow) (4.11.3)\n",
            "Requirement already satisfied: zipp>=0.5 in /usr/local/lib/python3.7/dist-packages (from importlib-metadata>=4.4->markdown>=2.6.8->tensorboard<2.9,>=2.8->tensorflow) (3.8.0)\n",
            "Requirement already satisfied: pyasn1<0.5.0,>=0.4.6 in /usr/local/lib/python3.7/dist-packages (from pyasn1-modules>=0.2.1->google-auth<3,>=1.6.3->tensorboard<2.9,>=2.8->tensorflow) (0.4.8)\n",
            "Requirement already satisfied: chardet<4,>=3.0.2 in /usr/local/lib/python3.7/dist-packages (from requests<3,>=2.21.0->tensorboard<2.9,>=2.8->tensorflow) (3.0.4)\n",
            "Requirement already satisfied: urllib3!=1.25.0,!=1.25.1,<1.26,>=1.21.1 in /usr/local/lib/python3.7/dist-packages (from requests<3,>=2.21.0->tensorboard<2.9,>=2.8->tensorflow) (1.24.3)\n",
            "Requirement already satisfied: idna<3,>=2.5 in /usr/local/lib/python3.7/dist-packages (from requests<3,>=2.21.0->tensorboard<2.9,>=2.8->tensorflow) (2.10)\n",
            "Requirement already satisfied: certifi>=2017.4.17 in /usr/local/lib/python3.7/dist-packages (from requests<3,>=2.21.0->tensorboard<2.9,>=2.8->tensorflow) (2021.10.8)\n",
            "Requirement already satisfied: oauthlib>=3.0.0 in /usr/local/lib/python3.7/dist-packages (from requests-oauthlib>=0.7.0->google-auth-oauthlib<0.5,>=0.4.1->tensorboard<2.9,>=2.8->tensorflow) (3.2.0)\n",
            "Installing collected packages: tf-estimator-nightly\n",
            "Successfully installed tf-estimator-nightly-2.8.0.dev2021122109\n"
          ]
        }
      ],
      "source": [
        "!pip install tensorflow"
      ]
    },
    {
      "cell_type": "code",
      "source": [
        "# Access dataset of google drive from colab\n",
        "from google.colab import drive\n",
        "drive.mount('/content/drive')"
      ],
      "metadata": {
        "colab": {
          "base_uri": "https://localhost:8080/"
        },
        "id": "LZxzmsynh6WR",
        "outputId": "3b6a5a6c-b6bb-4ab5-a5e3-d101896694f9"
      },
      "execution_count": null,
      "outputs": [
        {
          "output_type": "stream",
          "name": "stdout",
          "text": [
            "Mounted at /content/drive\n"
          ]
        }
      ]
    },
    {
      "cell_type": "code",
      "source": [
        "#Import required libraries\n",
        "import os\n",
        "import cv2\n",
        "import tensorflow as tf\n",
        "import numpy as np\n",
        "import matplotlib.pyplot as plt"
      ],
      "metadata": {
        "id": "6bQmORrzh_DR"
      },
      "execution_count": null,
      "outputs": []
    },
    {
      "cell_type": "code",
      "source": [
        "new_model = tf.keras.models.load_model(\"f_model2.h5\")"
      ],
      "metadata": {
        "colab": {
          "base_uri": "https://localhost:8080/",
          "height": 172
        },
        "id": "EKIJ0l-WiINe",
        "outputId": "e5778e5e-126a-4d51-f1dc-a4fecb6ee366"
      },
      "execution_count": 1,
      "outputs": [
        {
          "output_type": "error",
          "ename": "NameError",
          "evalue": "ignored",
          "traceback": [
            "\u001b[0;31m---------------------------------------------------------------------------\u001b[0m",
            "\u001b[0;31mNameError\u001b[0m                                 Traceback (most recent call last)",
            "\u001b[0;32m<ipython-input-1-e45bbb258c64>\u001b[0m in \u001b[0;36m<module>\u001b[0;34m()\u001b[0m\n\u001b[0;32m----> 1\u001b[0;31m \u001b[0mnew_model\u001b[0m \u001b[0;34m=\u001b[0m \u001b[0mtf\u001b[0m\u001b[0;34m.\u001b[0m\u001b[0mkeras\u001b[0m\u001b[0;34m.\u001b[0m\u001b[0mmodels\u001b[0m\u001b[0;34m.\u001b[0m\u001b[0mload_model\u001b[0m\u001b[0;34m(\u001b[0m\u001b[0;34m\"f_model2.h5\"\u001b[0m\u001b[0;34m)\u001b[0m\u001b[0;34m\u001b[0m\u001b[0;34m\u001b[0m\u001b[0m\n\u001b[0m",
            "\u001b[0;31mNameError\u001b[0m: name 'tf' is not defined"
          ]
        }
      ]
    },
    {
      "cell_type": "code",
      "source": [
        "!pip install streamlit --quiet\n",
        "!pip install pyngrok==4.1.1 --quiet\n",
        "from pyngrok import ngrok"
      ],
      "metadata": {
        "id": "WmhbyCY4UX0x"
      },
      "execution_count": null,
      "outputs": []
    },
    {
      "cell_type": "markdown",
      "source": [
        "Code to modify web app"
      ],
      "metadata": {
        "id": "kjgWnXvDPsyL"
      }
    },
    {
      "cell_type": "code",
      "source": [
        "%%writefile app.py\n",
        "import streamlit as st\n",
        "import tensorflow as tf\n",
        "import os\n",
        "import cv2\n",
        "from PIL import Image, ImageOps\n",
        "import numpy as np\n",
        "import matplotlib.pyplot as plt\n",
        "\n",
        "from IPython.display import display, Javascript, Image\n",
        "from google.colab.output import eval_js\n",
        "from base64 import b64decode, b64encode\n",
        "import cv2\n",
        "import numpy as np\n",
        "import PIL\n",
        "import io\n",
        "import html\n",
        "import time\n",
        "\n",
        "\n",
        "@st.cache(allow_output_mutation=True)\n",
        "def load_model():\n",
        "  model=tf.keras.models.load_model('/content/f_model2.h5')\n",
        "  return model\n",
        "with st.spinner('Model is being loaded..'):\n",
        "  new_model=load_model()\n",
        "st.title(\"Face Mask Detection\")\n",
        "\n",
        "st.write(\"\"\"\n",
        "         Welcome to Face Mask Detection\n",
        "         \"\"\"\n",
        "         )\n",
        "\n",
        "\n",
        "\n",
        "\n",
        "def getPred(frame):\n",
        "  \n",
        "  \n",
        "  faceCascade = cv2.CascadeClassifier(cv2.data.haarcascades + 'haarcascade_frontalface_default.xml')\n",
        "  gray = cv2.cvtColor(frame, cv2.COLOR_BGR2GRAY)\n",
        "  faces = faceCascade.detectMultiScale(gray,1.1,4)\n",
        "  for x,y,w,h in faces:\n",
        "      roi_gray = gray[y:y+h,x:x+w]\n",
        "      roi_color = frame[y:y+h,x:x+w]\n",
        "      cv2.rectangle(frame,(x,y),(x+w,y+h),(255,0,0),2)\n",
        "      facess = faceCascade.detectMultiScale(roi_gray)\n",
        "      if len(facess) == 0:\n",
        "          print(\"Face not detected\")\n",
        "      else:\n",
        "          for (ex,ey,ew,eh) in facess:\n",
        "              face_roi = roi_color[ey:ey+eh,ex: ex+ew]\n",
        "  final_image = cv2.resize(face_roi,(224,224))\n",
        "  final_image = np.expand_dims(final_image,axis=0)\n",
        "  final_image = final_image/255.0\n",
        "  Predictions = new_model.predict(final_image)\n",
        "\n",
        "  return Predictions\n",
        "\n",
        "b = st.selectbox('Select picture',('Pic_1','Pic_2','Pic_3','Pic_4','Pic_5','Pic_6','Pic_7','Pic_8','Pic_9','Pic_10'))\n",
        "b1 = st.button('Click to Predict :')\n",
        "\n",
        "if b=='Pic_1':\n",
        "  frame = cv2.imread(\"stockMaks.jpg\")\n",
        "  st.image(\"stockMaks.jpg\",width=400)\n",
        "  if b1:\n",
        "    k = getPred(frame)\n",
        "    if k > 0.87:\n",
        "      st.write(\"No Mask\")\n",
        "    else:\n",
        "      st.write(\"Mask\")\n",
        "if b=='Pic_2':\n",
        "  frame = cv2.imread(\"00995.png\")\n",
        "  st.image(\"00995.png\",width=400)\n",
        "  if b1:\n",
        "    k = getPred(frame)\n",
        "    if k > 0.87:\n",
        "      st.write(\"No Mask\")\n",
        "    else:\n",
        "      st.write(\"Mask\")\n",
        "if b=='Pic_3':\n",
        "  frame = cv2.imread(\"f1.jpg\")\n",
        "  st.image(\"f1.jpg\",width=400)\n",
        "  if b1:\n",
        "    k = getPred(frame)\n",
        "    if k > 0.87:\n",
        "      st.write(\"No Mask\")\n",
        "    else:\n",
        "      st.write(\"Mask\")\n",
        "if b=='Pic_4':\n",
        "  frame = cv2.imread(\"f2.jpg\")\n",
        "  st.image(\"f2.jpg\",width=400)\n",
        "  if b1:\n",
        "    k = getPred(frame)\n",
        "    if k > 0.87:\n",
        "      st.write(\"No Mask\")\n",
        "    else:\n",
        "      st.write(\"Mask\")\n",
        "if b=='Pic_5':\n",
        "  frame = cv2.imread(\"00015_Mask.jpg\")\n",
        "  st.image(\"00015_Mask.jpg\",width=400)\n",
        "  if b1:\n",
        "    k = getPred(frame)\n",
        "    if k > 0.87:\n",
        "      st.write(\"No Mask\")\n",
        "    else:\n",
        "      st.write(\"Mask\")\n",
        "\n",
        "if b=='Pic_6':\n",
        "  frame = cv2.imread(\"00089.png\")\n",
        "  st.image(\"00089.png\",width=400)\n",
        "  if b1:\n",
        "    k = getPred(frame)\n",
        "    if k > 0.87:\n",
        "      st.write(\"No Mask\")\n",
        "    else:\n",
        "      st.write(\"Mask\")\n",
        "if b=='Pic_7':\n",
        "  frame = cv2.imread(\"00091_Mask.jpg\")\n",
        "  st.image(\"00091_Mask.jpg\")\n",
        "  if b1:\n",
        "    k = getPred(frame)\n",
        "    if k > 0.87:\n",
        "      st.write(\"No Mask\")\n",
        "    else:\n",
        "      st.write(\"Mask\")\n",
        "if b=='Pic_8':\n",
        "  frame = cv2.imread(\"00091.png\")\n",
        "  st.image(\"00091.png\",width=400)\n",
        "  if b1:\n",
        "    k = getPred(frame)\n",
        "    if k > 0.87:\n",
        "      st.write(\"No Mask\")\n",
        "    else:\n",
        "      st.write(\"Mask\")\n",
        "\n",
        "if b=='Pic_9':\n",
        "  frame = cv2.imread(\"00021_Mask.jpg\")\n",
        "  st.image(\"00021_Mask.jpg\",width=400)\n",
        "  if b1:\n",
        "    k = getPred(frame)\n",
        "    if k > 0.87:\n",
        "      st.write(\"No Mask\")\n",
        "    else:\n",
        "      st.write(\"Mask\")\n",
        "\n",
        "if b=='Pic_10':\n",
        "  frame = cv2.imread(\"00051.png\")\n",
        "  st.image(\"00051.png\",width=400)\n",
        "  if b1:\n",
        "    k = getPred(frame)\n",
        "    if k > 0.87:\n",
        "      st.write(\"No Mask\")\n",
        "    else:\n",
        "      st.write(\"Mask\")\n",
        "\n"
      ],
      "metadata": {
        "colab": {
          "base_uri": "https://localhost:8080/"
        },
        "id": "WEmC8AYZhZBa",
        "outputId": "f63e1fcd-fe83-4c4b-931f-caa42c2bda23"
      },
      "execution_count": 3,
      "outputs": [
        {
          "output_type": "stream",
          "name": "stdout",
          "text": [
            "Overwriting app.py\n"
          ]
        }
      ]
    },
    {
      "cell_type": "code",
      "source": [
        "!ngrok config add-authtoken 28C8tKCOXAklwqQq01PUGbBR4MJ_7eWZaESyjQB8woTtPJjJZ"
      ],
      "metadata": {
        "id": "DmPgMTOphZzy"
      },
      "execution_count": null,
      "outputs": []
    },
    {
      "cell_type": "markdown",
      "source": [
        "Here we get temporary web app link\n"
      ],
      "metadata": {
        "id": "6Da3QOHHPgpu"
      }
    },
    {
      "cell_type": "code",
      "source": [
        "!streamlit run app.py & npx localtunnel --port 8501"
      ],
      "metadata": {
        "id": "9Y9x9pNaPdJq"
      },
      "execution_count": null,
      "outputs": []
    }
  ]
}